{
 "cells": [
  {
   "cell_type": "markdown",
   "id": "c074ce8f-033b-4b62-af9c-e18a6a118927",
   "metadata": {},
   "source": [
    "# Information Retrival | Assingment 3 - Search Engine Implementation Using Vector Space Modelling\n",
    "## Group 16: Pranay Dhareshwar, Paridhi Gupta, Saverro Suseno, Zayan Adam Shareef\n",
    "\n",
    "This Jupyter Notebook outlines the development of a search engine based on the Vector Space Model (VSM). We aim to showcase the implementation of it including indexing, querying, and ranking mechanisms within the VSM framework. This project is part of Group 16's assignment for the Information Retrieval course."
   ]
  },
  {
   "cell_type": "markdown",
   "id": "b8edaad8-ec97-4527-81d3-4b0baf60d72c",
   "metadata": {},
   "source": [
    "## 1.0 Data Preparation\n",
    "\n",
    "In this section, we set up our environment and prepare our dataset for the search engine:\n",
    "\n",
    "- **Library Imports**: Load the necessary Python libraries for data manipulation, regular expressions, and date handling.\n",
    "- **Data Loading**: Read our dataset into a `pandas` DataFrame from a CSV file.\n",
    "- **Null Value Replacement**: Substitute missing data with placeholder text to ensure data consistency.\n",
    "\n",
    "In order for the search engine to produce accurate and effective search results, it needs clean, consistent, and meaningful data, which is why data preparation is so important. This stage is crucial in the context of the given search engine architecture since it determines the quality of data that will be matched against user queries and feeds into the indexing and query processing components."
   ]
  },
  {
   "cell_type": "code",
   "execution_count": null,
   "id": "62d11b0b-08e3-4a57-9566-4e908a75aff7",
   "metadata": {},
   "outputs": [],
   "source": [
    "import pandas as pd\n",
    "import re\n",
    "from datetime import datetime\n",
    "from sklearn.feature_extraction.text import TfidfVectorizer\n",
    "from sklearn.metrics.pairwise import cosine_similarity\n",
    "import tkinter as tk\n",
    "from tkinter import ttk\n",
    "from tkinter import scrolledtext\n",
    "\n",
    "# Load the CSV file into a pandas DataFrame\n",
    "df = pd.read_csv('goodbooks_dataset.csv')\n",
    "\n",
    "# Replacing the null values with the given placeholders\n",
    "df['title'].fillna('[NO TITLE]', inplace=True)\n",
    "df['authors'].fillna('[NO AUTHOR]', inplace=True)\n",
    "df['publisher'].fillna('[NO PUBLISHER]', inplace=True)\n",
    "df['isbn'].fillna('[NO ISBN]', inplace=True)\n"
   ]
  },
  {
   "cell_type": "markdown",
   "id": "60678c52-e696-4586-b45c-b4acb544eab1",
   "metadata": {},
   "source": [
    "----"
   ]
  },
  {
   "cell_type": "markdown",
   "id": "42657fe6-1934-47b5-bcda-61155daf31f8",
   "metadata": {},
   "source": [
    "## 2.0 Text Preprocessing Function\n",
    "\n",
    "The `prepro` function standardises the text data. It does the following:\n",
    "\n",
    "- **Convert to String**: Ensure all data is in string format for consistency.\n",
    "- **Remove Unwanted Characters**: Strip out hashtags, mentions, and URLs.\n",
    "- **Case Normalisation**: Convert all text to lowercase.\n",
    "- **Whitespace Management**: Trim extra spaces for clean text.\n",
    "\n",
    "The process of text preprocessing is essential for streamlining and standardising the input data, eliminating noise, and enabling the search engine to concentrate on the important textual information, hence increasing the relevancy of search results. It guarantees that both user queries and stored data are in a format that facilitates efficient comparison and matching, hence supporting the search engine's query processing."
   ]
  },
  {
   "cell_type": "code",
   "execution_count": null,
   "id": "71eb94f1-6927-43aa-9247-5087d6b2ee2c",
   "metadata": {},
   "outputs": [],
   "source": [
    "def prepro(text):\n",
    "    text = str(text)                             # Ensure text is a string\n",
    "    text = re.sub(r'[#@]\\w+', ' ', text)         # Delete hashtags and mentions\n",
    "    text = re.sub(r'[^a-zA-Z0-9\\s]', ' ', text)  # Keep letters and numbers\n",
    "    text = text.lower()                          # Change to lower case\n",
    "    text = re.sub(r' +', ' ', text).strip()      # Remove extra spaces\n",
    "    text = re.sub(r'http\\S+|www\\S+', '', text)   # Remove URLs\n",
    "    text = re.sub(r'[!?\\']', '', text)           # Remove specific punctuation\n",
    "    text = re.sub(r'</br>', ' ', text)           # Remove breaks\n",
    "    text = re.sub(r'-', ' ', text)               # Remove hypens\n",
    "    return text\n",
    "\n",
    "# Applying the preprocessing\n",
    "df['title'] = df['title'].map(prepro)\n",
    "df['authors'] = df['authors'].map(prepro)\n",
    "df['publisher'] = df['publisher'].map(prepro)"
   ]
  },
  {
   "cell_type": "markdown",
   "id": "09e215db-e6c2-4b8f-ba1c-2caf6488bbf2",
   "metadata": {},
   "source": [
    "----"
   ]
  },
  {
   "cell_type": "markdown",
   "id": "99e38db1-f14b-48ee-87e1-5cef58626712",
   "metadata": {},
   "source": [
    "## 3.0 Date Formatting\n",
    "\n",
    "- Convert string dates to datetime objects with the original format `MM/DD/YYYY`, handling errors gracefully.\n",
    "- Convert datetime objects back to strings with the desired format `DD/MM/YYYY` for uniformity and improved readability.\n",
    "\n",
    "In order to facilitate time-based searches and the chronological organisation of results, date formatting standardises time data and makes it possible for search engines to accurately read and compare dates. Appropriate date handling within the architecture of the search engine makes possible more advanced capabilities like ranking search results according to timeliness or filtering by publication date."
   ]
  },
  {
   "cell_type": "code",
   "execution_count": null,
   "id": "e54e662b-0a86-4008-8624-9c9ea873fad1",
   "metadata": {},
   "outputs": [],
   "source": [
    "df['publication_date'] = pd.to_datetime(df['publication_date'], format='%m/%d/%Y', errors='coerce')\n",
    "df['publication_date'] = df['publication_date'].dt.strftime('%d/%m/%Y')\n",
    "\n",
    "print('The publication dates after the format is changed:')\n",
    "df['publication_date']"
   ]
  },
  {
   "cell_type": "markdown",
   "id": "8c5a09ec-cd93-4379-b9b0-32ca50cbcf9f",
   "metadata": {},
   "source": [
    "---"
   ]
  },
  {
   "cell_type": "markdown",
   "id": "f88cdaa9-01e8-4f01-b205-2ec41b1fe5ee",
   "metadata": {},
   "source": [
    "## 4.0 Search Engine Logic\n",
    "\n",
    "The function named `search_engine` defines the core search logic and does the following:\n",
    "\n",
    "  - **Exact Match**: Look for an exact match in a specific column if the user has chosen to filter by that column.\n",
    "  - **Vector Space Model**: Use TF-IDF to vectorize the text and cosine similarity for ranking documents relative to the query.\n",
    "\n",
    "This code defines a `search_engine` function that processes a search query against a dataframe `df` to find relevant information. It allows for two types of searches: column-specific search, if the `search_type` parameter matches a dataframe column, and a general TF-IDF vectorizer-based search across multiple text columns. \n",
    "\n",
    "The function preprocesses the query, then either filters the dataframe for matching entries in a specified column or calculates cosine similarities between the query and combined text fields to rank and return the most relevant entries.\n",
    "\n",
    "Strong search logic is necessary to swiftly offer appropriate results. The search engine logic is the central component of the system that defines how user queries are understood and what results are retrieved. This logic directly affects the indexing and ranking procedures in the overall architecture, which in turn affects how quickly the system can parse queries and obtain relevant data."
   ]
  },
  {
   "cell_type": "code",
   "execution_count": null,
   "id": "096c0d35-674d-4d53-bbc5-a36bf6e85289",
   "metadata": {},
   "outputs": [],
   "source": [
    "def search_engine(query, search_type='All'):\n",
    "    preprocessed_query = prepro(query)\n",
    "    if search_type != 'All' and search_type.lower() in df.columns:\n",
    "        column_specific_df = df[df[search_type.lower()].str.contains(preprocessed_query, case=False, na=False)]\n",
    "        if column_specific_df.empty:\n",
    "            return None, None\n",
    "        rankings = range(1, len(column_specific_df) + 1)\n",
    "        return column_specific_df, rankings\n",
    "    else:\n",
    "        tfidf_vectorizer = TfidfVectorizer()\n",
    "        combined_text = df['title'] + \" \" + df['authors'] + \" \" + df['publisher'] + \" \" + df['isbn']\n",
    "        tfidf_matrix = tfidf_vectorizer.fit_transform(combined_text)\n",
    "        query_vector = tfidf_vectorizer.transform([preprocessed_query])\n",
    "        cosine_similarities = cosine_similarity(query_vector, tfidf_matrix).flatten()\n",
    "        relevant_indices = cosine_similarities.argsort()[::-1]\n",
    "        if len(relevant_indices) == 0:\n",
    "            return None, None\n",
    "        rankings = cosine_similarities[relevant_indices]\n",
    "        return df.iloc[relevant_indices], rankings"
   ]
  },
  {
   "cell_type": "markdown",
   "id": "6f0e6f81-ec59-4b0e-b61e-cdac95fa6d59",
   "metadata": {},
   "source": [
    "----"
   ]
  },
  {
   "cell_type": "markdown",
   "id": "a3cec08a-bba0-4453-9dd2-fe4e2cd45a76",
   "metadata": {},
   "source": [
    "## 5.0 Event Handling for Search\n",
    "\n",
    "- `on_search_click` is an event handler that triggers when the user clicks the 'Search' button:\n",
    "  - **Get Query**: Retrieve the user's query from the input field.\n",
    "  - **Execute Search**: Call the `search_engine` function to find matching results.\n",
    "  - **Display Results**: Update the Treeview with the search outcomes.\n",
    "  - **No Results Feedback**: Inform the user when no results are found.\n",
    "\n",
    "Event handling for search is necessary to ensure a responsive user experience, capturing and processing user input seamlessly, which is fundamental to user satisfaction. It's a critical component in the GUI of the search engine architecture, where the interaction between the user's input and the system's output is managed, providing immediate feedback on search actions.\n"
   ]
  },
  {
   "cell_type": "code",
   "execution_count": null,
   "id": "3dc5f8c5-b96e-468a-9007-e65e0780817a",
   "metadata": {},
   "outputs": [],
   "source": [
    "def on_search_click():\n",
    "    query = entry.get()\n",
    "    search_option = search_option_combobox.get()\n",
    "    result, rankings = search_engine(query, search_option)\n",
    "    if result is not None and not result.empty:\n",
    "        dataframe_to_treeview(result, rankings, result_tree)\n",
    "    else:\n",
    "        for i in result_tree.get_children():\n",
    "            result_tree.delete(i)\n",
    "        status_label.config(text=\"No results found.\")"
   ]
  },
  {
   "cell_type": "markdown",
   "id": "2924fea0-03a1-403b-9f4b-b09c89fcb9fd",
   "metadata": {},
   "source": [
    "----"
   ]
  },
  {
   "cell_type": "markdown",
   "id": "86c4aba0-eec7-4e16-9b5e-ff94218b4ba2",
   "metadata": {},
   "source": [
    "## 6.0 Search Ranking\n",
    "\n",
    "- **Function:** The function `dataframe_to_treeview` iterates through the search results stored in a DataFrame, and for each result, it assigns a rank and displays this information in a hierarchical view (TreeView), which allows users to see a sorted list of results based on their relevance to the search query.\n",
    "- **Status Label:** It also updates a status label with the total number of results displayed, providing immediate feedback to the user on the quantity of data that has been ranked and is currently viewable, enhancing the transparency of the search process.\n",
    "\n",
    "A search engine's ranking system is crucial because it ranks the results according to how relevant they are to the user's query, improving the search experience by displaying the most relevant content first. In order to guarantee that the user sees the best match to their search query first, ranking functions as the last filter that the processed data must travel through in the search engine's architecture before being presented. Since it indicates how well the search algorithm understands and responds to user intent, it strongly ties in with search engine logic and is essential to end-user happiness."
   ]
  },
  {
   "cell_type": "code",
   "execution_count": 1,
   "id": "0db0ac1f-e9e0-4cb5-bb97-b17723e73467",
   "metadata": {
    "tags": []
   },
   "outputs": [],
   "source": [
    "def dataframe_to_treeview(df, rankings, tree):\n",
    "    for i in tree.get_children():\n",
    "        tree.delete(i)\n",
    "    for index, (row, rank) in enumerate(zip(df.iterrows(), rankings), start=1):\n",
    "        _, row_data = row\n",
    "        row_values = (index, row_data['title'], row_data['authors'], row_data['average_rating'], \n",
    "                      row_data['publication_date'], row_data['publisher'], row_data['isbn'])\n",
    "        tree.insert(\"\", \"end\", values=row_values)\n",
    "    status_label.config(text=f\"Shows {len(df)} results with rankings\")"
   ]
  },
  {
   "cell_type": "markdown",
   "id": "3b12884a-8c8d-4822-a846-05418e88affa",
   "metadata": {},
   "source": [
    "----"
   ]
  },
  {
   "cell_type": "markdown",
   "id": "30eee823-c4df-470d-ac93-e06388d7d049",
   "metadata": {
    "tags": []
   },
   "source": [
    "## 7.0 General User Interface Setup\n",
    "\n",
    "The GUI setup code plays a crucial role in creating the user interface. It sets the interactive features and layout that users would interact with the search engine, which in turn impacts their satisfaction and experience. It makes the process of entering and displaying search queries and results easier, which is crucial for the search engine's overall efficiency and functionality in the described architecture.\n",
    "\n",
    "Setting up the Graphical User Interface using Tkinter:\n",
    "\n",
    "- **Main Window**: Create the primary application window with a title.\n",
    "- **Search Frame**: Construct a frame to hold search-related widgets.\n",
    "- **Input Fields and Labels**: Add input fields for query text and dropdown menus for specifying the search type.\n",
    "- **Result Display**: Set up a Treeview to show the search results with a scrollbar for navigation.\n",
    "- **Application Launch**: Enter the Tkinter main event loop to start the application.\n",
    "\n",
    "This script sets up a graphical user interface (GUI) for a search engine using Tkinter, where users can enter a search query and choose from specific search options through a dropdown menu. The on_search_click function retrieves the user's input, executes the search using the search_engine function (defined separately), and displays the results in a Treeview widget as a formatted table. \n",
    "\n",
    "If no results are found, it clears the table and updates a status label to notify the user. The GUI layout includes a title label, entry fields for the query and search options, a search button, and a Treeview table with a scrollbar for displaying search results. The application is structured to initiate with the main window setup, including widget configurations for user interactions and result display."
   ]
  },
  {
   "cell_type": "code",
   "execution_count": null,
   "id": "748fd520-98b9-4ad5-9d41-01ddcd1fabc5",
   "metadata": {},
   "outputs": [],
   "source": [
    "# GUI Setup\n",
    "root = tk.Tk()\n",
    "root.title(\"Group 16 Search Engine using Vector Space Modelling\")\n",
    "\n",
    "# Title Label\n",
    "title_label = tk.Label(root, text=\"Group 16 Search Engine using Vector Space Modelling\", font=(\"Helvetica\", 16))\n",
    "title_label.pack(pady=10)\n",
    "\n",
    "# Creating a frame for the query and search type\n",
    "query_frame = tk.Frame(root)\n",
    "query_frame.pack(pady=10)\n",
    "\n",
    "# Creating widgets for specific search options\n",
    "entry_label = tk.Label(query_frame, text=\"Enter your query:\")\n",
    "entry_label.pack(side=tk.LEFT, padx=(0, 10))\n",
    "\n",
    "entry = tk.Entry(query_frame, width=50)\n",
    "entry.pack(side=tk.LEFT)\n",
    "\n",
    "search_option_label = tk.Label(query_frame, text=\"Search by:\")\n",
    "search_option_label.pack(side=tk.LEFT, padx=(20, 10))\n",
    "\n",
    "search_options = ['All', 'Title', 'Authors', 'ISBN', 'Publisher']\n",
    "search_option_combobox = ttk.Combobox(query_frame, values=search_options, width=15)\n",
    "search_option_combobox.current(0)\n",
    "search_option_combobox.pack(side=tk.LEFT)\n",
    "\n",
    "search_button = tk.Button(query_frame, text=\"Search\", command=on_search_click)\n",
    "search_button.pack(side=tk.LEFT, padx=(20, 0))\n",
    "\n",
    "status_label = tk.Label(root, text=\"\")\n",
    "status_label.pack(pady=10)\n",
    "\n",
    "# Defining the columns \n",
    "columns = ('Rank', 'Title', 'Authors', 'Average Rating', 'Publication Date', 'Publisher', 'ISBN')\n",
    "\n",
    "# Setting up the Treeview widget for the table inside\n",
    "frame = tk.Frame(root)\n",
    "frame.pack(expand=True, fill='both', padx=10, pady=10)\n",
    "\n",
    "result_tree = ttk.Treeview(frame, columns=columns, show='headings')\n",
    "result_tree.pack(side=tk.LEFT, expand=True, fill='both')\n",
    "\n",
    "# scrollbar\n",
    "scrollbar = ttk.Scrollbar(frame, orient=\"vertical\", command=result_tree.yview)\n",
    "scrollbar.pack(side=tk.RIGHT, fill='y')\n",
    "result_tree.configure(yscrollcommand=scrollbar.set)\n",
    "\n",
    "for col in columns:\n",
    "    result_tree.heading(col, text=col)\n",
    "    result_tree.column(col, width=100, anchor=tk.CENTER)\n",
    "\n",
    "# Running the application\n",
    "root.mainloop()"
   ]
  }
 ],
 "metadata": {
  "kernelspec": {
   "display_name": "Python 3 (ipykernel)",
   "language": "python",
   "name": "python3"
  },
  "language_info": {
   "codemirror_mode": {
    "name": "ipython",
    "version": 3
   },
   "file_extension": ".py",
   "mimetype": "text/x-python",
   "name": "python",
   "nbconvert_exporter": "python",
   "pygments_lexer": "ipython3",
   "version": "3.8.18"
  }
 },
 "nbformat": 4,
 "nbformat_minor": 5
}
